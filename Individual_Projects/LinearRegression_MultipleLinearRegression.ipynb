{
  "nbformat": 4,
  "nbformat_minor": 0,
  "metadata": {
    "colab": {
      "name": "LinearRegression_MultipleLinearRegression.ipynb",
      "provenance": [],
      "collapsed_sections": []
    },
    "kernelspec": {
      "name": "python3",
      "display_name": "Python 3"
    }
  },
  "cells": [
    {
      "cell_type": "markdown",
      "metadata": {
        "id": "pIE-lMmyh5AI"
      },
      "source": [
        "# **INET 4061 Lab 4**"
      ]
    },
    {
      "cell_type": "markdown",
      "metadata": {
        "id": "CGbNoV66h-G6"
      },
      "source": [
        "# **Author: Sai Tallapragada**\n",
        "# **Date: 2/14/2021**"
      ]
    },
    {
      "cell_type": "markdown",
      "metadata": {
        "id": "pK0znIR9ncN_"
      },
      "source": [
        "# **Overview**\n",
        "In our Lab, we are trying to understand what factors have a possible influence on devloping diabetes through using Disiease Progression Value which tell us the progression of the disease. In our lab, we are using linear regression and multiple linear regression to study the different factors that may have influence on diabetes. I have used the code provided for Excercise 4 to help complete this lab from the following source([Source1](https://docs.google.com/document/d/1SRvCpvh5R6l4lQa0eGoSQdoYG2331APk84pFgiySfpE/edit)). Finally, the null hypothesis we will be dealing with is the relationship between the model and the target variable(Disease Progression Value) is not significant and the alternative hypothesis is that the relationship is significant."
      ]
    },
    {
      "cell_type": "code",
      "metadata": {
        "id": "pUUHXZct3QDY"
      },
      "source": [
        "import matplotlib.pyplot as plt\n",
        "import numpy as np\n",
        "from sklearn import datasets, linear_model\n",
        "from sklearn.metrics import mean_squared_error, r2_score\n",
        "import pandas as pd\n"
      ],
      "execution_count": null,
      "outputs": []
    },
    {
      "cell_type": "markdown",
      "metadata": {
        "id": "YDVhePC07XdA"
      },
      "source": [
        "# **Data**"
      ]
    },
    {
      "cell_type": "code",
      "metadata": {
        "colab": {
          "base_uri": "https://localhost:8080/"
        },
        "id": "mmtWWvrq7Vdr",
        "outputId": "18f35306-3009-4dca-82ba-0c8f2c8f6a30"
      },
      "source": [
        "# Load the diabetes dataset that is already scaled\n",
        "diabetes = datasets.load_diabetes()\n",
        "print(type(diabetes))"
      ],
      "execution_count": null,
      "outputs": [
        {
          "output_type": "stream",
          "text": [
            "<class 'sklearn.utils.Bunch'>\n"
          ],
          "name": "stdout"
        }
      ]
    },
    {
      "cell_type": "markdown",
      "metadata": {
        "id": "vd_IqRxa0BnD"
      },
      "source": [
        "We are getting a diabetes dataset from the sklearn.datasets module. We will be using this dataset throughout this notebook to answer our question of what factors may have an influence on diabestes. We are using import datasets.load_diabetes() to retrieve the dataset we want."
      ]
    },
    {
      "cell_type": "markdown",
      "metadata": {
        "id": "e7wqFpB37ESw"
      },
      "source": [
        "# **Exploratory Data Analysis**"
      ]
    },
    {
      "cell_type": "code",
      "metadata": {
        "colab": {
          "base_uri": "https://localhost:8080/",
          "height": 688
        },
        "id": "tX6jni3f7CDe",
        "outputId": "01b5b5bb-24c4-491a-aec9-39b4b92b5472"
      },
      "source": [
        "df = pd.DataFrame(diabetes.data, columns=diabetes.feature_names) # Converting the Dataset to a pandas Dataframe\n",
        "print(df.shape) # printing the shape of the data\n",
        "print(df.head())\n",
        "print(\"No Null Values\")\n",
        "num_Null=df.isnull().sum().sort_values(ascending=False) # Checking for Null/ Missing Values.\n",
        "print(num_Null)\n",
        "print(\"\\nSummary of Numeric Independent Variables  \")\n",
        "df.describe()# Summary of all the variables   "
      ],
      "execution_count": null,
      "outputs": [
        {
          "output_type": "stream",
          "text": [
            "(442, 10)\n",
            "        age       sex       bmi  ...        s4        s5        s6\n",
            "0  0.038076  0.050680  0.061696  ... -0.002592  0.019908 -0.017646\n",
            "1 -0.001882 -0.044642 -0.051474  ... -0.039493 -0.068330 -0.092204\n",
            "2  0.085299  0.050680  0.044451  ... -0.002592  0.002864 -0.025930\n",
            "3 -0.089063 -0.044642 -0.011595  ...  0.034309  0.022692 -0.009362\n",
            "4  0.005383 -0.044642 -0.036385  ... -0.002592 -0.031991 -0.046641\n",
            "\n",
            "[5 rows x 10 columns]\n",
            "No Null Values\n",
            "s6     0\n",
            "s5     0\n",
            "s4     0\n",
            "s3     0\n",
            "s2     0\n",
            "s1     0\n",
            "bp     0\n",
            "bmi    0\n",
            "sex    0\n",
            "age    0\n",
            "dtype: int64\n",
            "\n",
            "Summary of Numeric Independent Variables  \n"
          ],
          "name": "stdout"
        },
        {
          "output_type": "execute_result",
          "data": {
            "text/html": [
              "<div>\n",
              "<style scoped>\n",
              "    .dataframe tbody tr th:only-of-type {\n",
              "        vertical-align: middle;\n",
              "    }\n",
              "\n",
              "    .dataframe tbody tr th {\n",
              "        vertical-align: top;\n",
              "    }\n",
              "\n",
              "    .dataframe thead th {\n",
              "        text-align: right;\n",
              "    }\n",
              "</style>\n",
              "<table border=\"1\" class=\"dataframe\">\n",
              "  <thead>\n",
              "    <tr style=\"text-align: right;\">\n",
              "      <th></th>\n",
              "      <th>age</th>\n",
              "      <th>sex</th>\n",
              "      <th>bmi</th>\n",
              "      <th>bp</th>\n",
              "      <th>s1</th>\n",
              "      <th>s2</th>\n",
              "      <th>s3</th>\n",
              "      <th>s4</th>\n",
              "      <th>s5</th>\n",
              "      <th>s6</th>\n",
              "    </tr>\n",
              "  </thead>\n",
              "  <tbody>\n",
              "    <tr>\n",
              "      <th>count</th>\n",
              "      <td>4.420000e+02</td>\n",
              "      <td>4.420000e+02</td>\n",
              "      <td>4.420000e+02</td>\n",
              "      <td>4.420000e+02</td>\n",
              "      <td>4.420000e+02</td>\n",
              "      <td>4.420000e+02</td>\n",
              "      <td>4.420000e+02</td>\n",
              "      <td>4.420000e+02</td>\n",
              "      <td>4.420000e+02</td>\n",
              "      <td>4.420000e+02</td>\n",
              "    </tr>\n",
              "    <tr>\n",
              "      <th>mean</th>\n",
              "      <td>-3.634285e-16</td>\n",
              "      <td>1.308343e-16</td>\n",
              "      <td>-8.045349e-16</td>\n",
              "      <td>1.281655e-16</td>\n",
              "      <td>-8.835316e-17</td>\n",
              "      <td>1.327024e-16</td>\n",
              "      <td>-4.574646e-16</td>\n",
              "      <td>3.777301e-16</td>\n",
              "      <td>-3.830854e-16</td>\n",
              "      <td>-3.412882e-16</td>\n",
              "    </tr>\n",
              "    <tr>\n",
              "      <th>std</th>\n",
              "      <td>4.761905e-02</td>\n",
              "      <td>4.761905e-02</td>\n",
              "      <td>4.761905e-02</td>\n",
              "      <td>4.761905e-02</td>\n",
              "      <td>4.761905e-02</td>\n",
              "      <td>4.761905e-02</td>\n",
              "      <td>4.761905e-02</td>\n",
              "      <td>4.761905e-02</td>\n",
              "      <td>4.761905e-02</td>\n",
              "      <td>4.761905e-02</td>\n",
              "    </tr>\n",
              "    <tr>\n",
              "      <th>min</th>\n",
              "      <td>-1.072256e-01</td>\n",
              "      <td>-4.464164e-02</td>\n",
              "      <td>-9.027530e-02</td>\n",
              "      <td>-1.123996e-01</td>\n",
              "      <td>-1.267807e-01</td>\n",
              "      <td>-1.156131e-01</td>\n",
              "      <td>-1.023071e-01</td>\n",
              "      <td>-7.639450e-02</td>\n",
              "      <td>-1.260974e-01</td>\n",
              "      <td>-1.377672e-01</td>\n",
              "    </tr>\n",
              "    <tr>\n",
              "      <th>25%</th>\n",
              "      <td>-3.729927e-02</td>\n",
              "      <td>-4.464164e-02</td>\n",
              "      <td>-3.422907e-02</td>\n",
              "      <td>-3.665645e-02</td>\n",
              "      <td>-3.424784e-02</td>\n",
              "      <td>-3.035840e-02</td>\n",
              "      <td>-3.511716e-02</td>\n",
              "      <td>-3.949338e-02</td>\n",
              "      <td>-3.324879e-02</td>\n",
              "      <td>-3.317903e-02</td>\n",
              "    </tr>\n",
              "    <tr>\n",
              "      <th>50%</th>\n",
              "      <td>5.383060e-03</td>\n",
              "      <td>-4.464164e-02</td>\n",
              "      <td>-7.283766e-03</td>\n",
              "      <td>-5.670611e-03</td>\n",
              "      <td>-4.320866e-03</td>\n",
              "      <td>-3.819065e-03</td>\n",
              "      <td>-6.584468e-03</td>\n",
              "      <td>-2.592262e-03</td>\n",
              "      <td>-1.947634e-03</td>\n",
              "      <td>-1.077698e-03</td>\n",
              "    </tr>\n",
              "    <tr>\n",
              "      <th>75%</th>\n",
              "      <td>3.807591e-02</td>\n",
              "      <td>5.068012e-02</td>\n",
              "      <td>3.124802e-02</td>\n",
              "      <td>3.564384e-02</td>\n",
              "      <td>2.835801e-02</td>\n",
              "      <td>2.984439e-02</td>\n",
              "      <td>2.931150e-02</td>\n",
              "      <td>3.430886e-02</td>\n",
              "      <td>3.243323e-02</td>\n",
              "      <td>2.791705e-02</td>\n",
              "    </tr>\n",
              "    <tr>\n",
              "      <th>max</th>\n",
              "      <td>1.107267e-01</td>\n",
              "      <td>5.068012e-02</td>\n",
              "      <td>1.705552e-01</td>\n",
              "      <td>1.320442e-01</td>\n",
              "      <td>1.539137e-01</td>\n",
              "      <td>1.987880e-01</td>\n",
              "      <td>1.811791e-01</td>\n",
              "      <td>1.852344e-01</td>\n",
              "      <td>1.335990e-01</td>\n",
              "      <td>1.356118e-01</td>\n",
              "    </tr>\n",
              "  </tbody>\n",
              "</table>\n",
              "</div>"
            ],
            "text/plain": [
              "                age           sex  ...            s5            s6\n",
              "count  4.420000e+02  4.420000e+02  ...  4.420000e+02  4.420000e+02\n",
              "mean  -3.634285e-16  1.308343e-16  ... -3.830854e-16 -3.412882e-16\n",
              "std    4.761905e-02  4.761905e-02  ...  4.761905e-02  4.761905e-02\n",
              "min   -1.072256e-01 -4.464164e-02  ... -1.260974e-01 -1.377672e-01\n",
              "25%   -3.729927e-02 -4.464164e-02  ... -3.324879e-02 -3.317903e-02\n",
              "50%    5.383060e-03 -4.464164e-02  ... -1.947634e-03 -1.077698e-03\n",
              "75%    3.807591e-02  5.068012e-02  ...  3.243323e-02  2.791705e-02\n",
              "max    1.107267e-01  5.068012e-02  ...  1.335990e-01  1.356118e-01\n",
              "\n",
              "[8 rows x 10 columns]"
            ]
          },
          "metadata": {
            "tags": []
          },
          "execution_count": 73
        }
      ]
    },
    {
      "cell_type": "markdown",
      "metadata": {
        "id": "Nw5KsXit0ZNZ"
      },
      "source": [
        "According to the shape of the dataframe, there seems to be a total of 442 data values in our dataset. Next, we can also see that there are no null values in our dataset as each of he variables had a count of zero for null values."
      ]
    },
    {
      "cell_type": "markdown",
      "metadata": {
        "id": "Lkbl-zhjdTjP"
      },
      "source": [
        "**Histogram of Disease Progression value**"
      ]
    },
    {
      "cell_type": "code",
      "metadata": {
        "colab": {
          "base_uri": "https://localhost:8080/",
          "height": 295
        },
        "id": "gCDemAlcAGnq",
        "outputId": "a25b94b3-a4df-4961-d55b-63f53b570185"
      },
      "source": [
        "# The code below prints out the histogram o the disease progression value.\n",
        "n, bins, patches = plt.hist(x = diabetes.target, bins = 100, color = '#0504aa')\n",
        "plt.grid(axis='y', alpha=0.75)\n",
        "plt.xlabel('Target (Disease Progression Value)')\n",
        "plt.ylabel('Probability')\n",
        "plt.title('Target Distribution')\n",
        "plt.show()"
      ],
      "execution_count": null,
      "outputs": [
        {
          "output_type": "display_data",
          "data": {
            "image/png": "[encoded data removed]",
            "text/plain": [
              "<Figure size 432x288 with 1 Axes>"
            ]
          },
          "metadata": {
            "tags": [],
            "needs_background": "light"
          }
        }
      ]
    },
    {
      "cell_type": "markdown",
      "metadata": {
        "id": "IaEQw0tozcMp"
      },
      "source": [
        "Based of the histogram of the target variable which is Disease Progression value, it seems that the distribution of values is right skewed slightly as the peak of the distribution seems to be a little bit to the left side of the histogram."
      ]
    },
    {
      "cell_type": "markdown",
      "metadata": {
        "id": "RO4C-6POfZ8n"
      },
      "source": [
        "**BMI Scatterplot**"
      ]
    },
    {
      "cell_type": "code",
      "metadata": {
        "colab": {
          "base_uri": "https://localhost:8080/",
          "height": 295
        },
        "id": "0MwzyYUQd8I_",
        "outputId": "711aa61d-8c9a-41db-9406-2ee57ba1e14f"
      },
      "source": [
        "# Disease Progression Value vs BMI\n",
        "plt.scatter(df.bmi, diabetes.target)\n",
        "\n",
        "plt.xlabel('BMI')\n",
        "plt.ylabel('Disease Progression Value')\n",
        "plt.title('BMI scatter plot')\n",
        "plt.show()"
      ],
      "execution_count": null,
      "outputs": [
        {
          "output_type": "display_data",
          "data": {
            "image/png": "[encoded data removed]",
            "text/plain": [
              "<Figure size 432x288 with 1 Axes>"
            ]
          },
          "metadata": {
            "tags": [],
            "needs_background": "light"
          }
        }
      ]
    },
    {
      "cell_type": "markdown",
      "metadata": {
        "id": "lOu-bMYfzQVo"
      },
      "source": [
        "From looking at the scatterplot above, it seems ot me that BMI and the Disease Progression Value have a positve correlation. After 0.10 on BMI scale, it seems that the points are more spread and not as condense as the points between -0.10 and 0.10."
      ]
    },
    {
      "cell_type": "markdown",
      "metadata": {
        "id": "rsTW442jfhQX"
      },
      "source": [
        "**Correlation Matrix**"
      ]
    },
    {
      "cell_type": "code",
      "metadata": {
        "colab": {
          "base_uri": "https://localhost:8080/"
        },
        "id": "U6WF9DF1fft_",
        "outputId": "f09fb7b1-38be-4dbc-8733-847ba4f0e01e"
      },
      "source": [
        "print(\"\\nCorrelation Matrix is Printed below\")\n",
        "print(df.corr())"
      ],
      "execution_count": null,
      "outputs": [
        {
          "output_type": "stream",
          "text": [
            "\n",
            "Correlation Matrix is Printed below\n",
            "          age       sex       bmi  ...        s4        s5        s6\n",
            "age  1.000000  0.173737  0.185085  ...  0.203841  0.270777  0.301731\n",
            "sex  0.173737  1.000000  0.088161  ...  0.332115  0.149918  0.208133\n",
            "bmi  0.185085  0.088161  1.000000  ...  0.413807  0.446159  0.388680\n",
            "bp   0.335427  0.241013  0.395415  ...  0.257653  0.393478  0.390429\n",
            "s1   0.260061  0.035277  0.249777  ...  0.542207  0.515501  0.325717\n",
            "s2   0.219243  0.142637  0.261170  ...  0.659817  0.318353  0.290600\n",
            "s3  -0.075181 -0.379090 -0.366811  ... -0.738493 -0.398577 -0.273697\n",
            "s4   0.203841  0.332115  0.413807  ...  1.000000  0.617857  0.417212\n",
            "s5   0.270777  0.149918  0.446159  ...  0.617857  1.000000  0.464670\n",
            "s6   0.301731  0.208133  0.388680  ...  0.417212  0.464670  1.000000\n",
            "\n",
            "[10 rows x 10 columns]\n"
          ],
          "name": "stdout"
        }
      ]
    },
    {
      "cell_type": "markdown",
      "metadata": {
        "id": "CEQeyfZISMGM"
      },
      "source": [
        "Further more, we have a correlation matrix printed above which inlcudes all of our indepnedent variables. It seems that there a few variables pairs like bmi and s5(0.446159) or s1 and s5(0.515501) which seem to have correlation of atleast .40 between them. I think that there is little bit of a collinearity issue between the variables because we are seeing numbers greater than 0.4 and 0.5 for correlation."
      ]
    },
    {
      "cell_type": "markdown",
      "metadata": {
        "id": "YLh7rWom_wN8"
      },
      "source": [
        "# **Models**"
      ]
    },
    {
      "cell_type": "code",
      "metadata": {
        "colab": {
          "base_uri": "https://localhost:8080/"
        },
        "id": "NBW9bdkV_vLh",
        "outputId": "dbc7e4e2-73aa-4e10-b355-82854a81351a"
      },
      "source": [
        "# Linear Regression Model\n",
        "\n",
        "diabetes_X = np.array(df.bmi).reshape(-1,1)\n",
        "diabetes_y = diabetes.target\n",
        "\n",
        "# Split the data into training/testing sets\n",
        "diabetes_X_train = diabetes_X[:-20]\n",
        "diabetes_X_test = diabetes_X[-20:]\n",
        "\n",
        "# Split the targets into training/testing sets\n",
        "diabetes_y_train = diabetes_y[:-20]\n",
        "diabetes_y_test = diabetes_y[-20:]\n",
        "\n",
        "# Create linear regression object\n",
        "regr = linear_model.LinearRegression()\n",
        "\n",
        "# Train the model using the training sets\n",
        "regr.fit(diabetes_X_train, diabetes_y_train)\n",
        "\n",
        "# Make predictions using the testing set\n",
        "diabetes_y_pred = regr.predict(diabetes_X_test)  \n",
        "\n",
        "# R squared\n",
        "print('\\nVariance score (R squared): %.2f' % r2_score(diabetes_y_test, diabetes_y_pred))\n",
        "\n",
        "# The mean squared error\n",
        "print(\"Mean squared error: %.2f\"\n",
        "      % mean_squared_error(diabetes_y_test, diabetes_y_pred))\n",
        "\n",
        "print(\"Root mean squared error: %.2f\"\n",
        "      % np.sqrt( mean_squared_error(diabetes_y_test, diabetes_y_pred)) )\n",
        " \n",
        "print(\"\\nMean of diabetes target variable = \",diabetes_y_test.mean())\n",
        "\n",
        " \n",
        "print(\"RMSE percentage of diabetes mean = \", \\\n",
        "      100 * np.sqrt( mean_squared_error(diabetes_y_test, diabetes_y_pred))/diabetes_y_test.mean())\n",
        "print(\"Coefficient: \", regr.coef_)# Coefficient of our Regression Model\n",
        "print(\"y intercept\",regr.intercept_) # The y intercept of our regression model.\n"
      ],
      "execution_count": null,
      "outputs": [
        {
          "output_type": "stream",
          "text": [
            "\n",
            "Variance score (R squared): 0.47\n",
            "Mean squared error: 2548.07\n",
            "Root mean squared error: 50.48\n",
            "\n",
            "Mean of diabetes target variable =  126.2\n",
            "RMSE percentage of diabetes mean =  39.998759894526835\n",
            "Coefficient:  [938.23786125]\n",
            "y intercept 152.91886182616167\n"
          ],
          "name": "stdout"
        }
      ]
    },
    {
      "cell_type": "markdown",
      "metadata": {
        "id": "DdUG4sVfkcgF"
      },
      "source": [
        "### **How Accurate is our linear regression model based of our results?**\n",
        "The Formula of the regression line we got from our model is y=938.23786x + 152.918862. From the linear regression model, we received a Variance of 0.47. This means that only 47% of the variance that has occured in the our target response variable(Disease Progression Value) can be explained by the input. Thus, we can see that our linear regression model has not performed that well due to the variance being 0.47. Even more, the RMSE percentage of the diabetes mean is 39.998 and the actual mean itself is 126.2. We can see that the error in our model is large and that our model was not that accurate as the residual distance between the actual data points and residual data points for our linear regression model was large. Even more, the R-squared(variance) value is .47 and that tells us that the estimatred strength of the relationship between the model and the response variable(Disease Progression Value) is not that strong.\n"
      ]
    },
    {
      "cell_type": "code",
      "metadata": {
        "colab": {
          "base_uri": "https://localhost:8080/"
        },
        "id": "7SVGZ2D_Mhet",
        "outputId": "3c7614f7-6220-4422-8597-5a62ace7c8fc"
      },
      "source": [
        "#Multiple Regression\n",
        "\n",
        "import statsmodels.api as sm\n",
        "\n",
        "diabetes_X = diabetes.data\n",
        " \n",
        "# Split the data into training/testing sets\n",
        "diabetes_X_train = diabetes_X[:-20]\n",
        "diabetes_X_test = diabetes_X[-20:]\n",
        " \n",
        "# Create linear regression object\n",
        "lm = linear_model.LinearRegression()\n",
        " \n",
        "# Train the model using the training sets\n",
        "fit = lm.fit(diabetes_X_train, diabetes_y_train)\n",
        " \n",
        "# Make predictions using the testing set\n",
        "diabetes_y_pred = fit.predict(diabetes_X_test)\n",
        " \n",
        "# The coefficients\n",
        "print('Coefficients: \\n', fit.coef_)\n",
        "\n",
        "colnames = np.asarray(df.columns)\n",
        "\n",
        " \n",
        "# https://pandas.pydata.org/pandas-docs/stable/user_guide/merging.html\n",
        "df_col = pd.DataFrame( data = np.asarray(df.columns)  )\n",
        "df_coef = pd.DataFrame( data = fit.coef_)\n",
        "df_tbl =  pd.concat ( [df_col, df_coef] , axis = 1 )\n",
        "df_tbl.columns = ['Columns', 'Coefficients']\n",
        "print(df_tbl)\n",
        " \n",
        "\n",
        "#  scipy.stats OLS linear regression model\n",
        "X_train = sm.add_constant(diabetes_X_train)\n",
        "lm2 = sm.OLS(diabetes_y_train, X_train).fit()\n",
        "print(lm2.summary())\n",
        "\n",
        "print(\"Mean squared error: %.2f\"\n",
        "      % mean_squared_error(diabetes_y_test, diabetes_y_pred))\n",
        "\n",
        "print(\"Root mean squared error: %.2f\"\n",
        "      % np.sqrt( mean_squared_error(diabetes_y_test, diabetes_y_pred)) )"
      ],
      "execution_count": null,
      "outputs": [
        {
          "output_type": "stream",
          "text": [
            "Coefficients: \n",
            " [ 3.03499549e-01 -2.37639315e+02  5.10530605e+02  3.27736980e+02\n",
            " -8.14131709e+02  4.92814588e+02  1.02848452e+02  1.84606489e+02\n",
            "  7.43519617e+02  7.60951722e+01]\n",
            "  Columns  Coefficients\n",
            "0     age      0.303500\n",
            "1     sex   -237.639315\n",
            "2     bmi    510.530605\n",
            "3      bp    327.736980\n",
            "4      s1   -814.131709\n",
            "5      s2    492.814588\n",
            "6      s3    102.848452\n",
            "7      s4    184.606489\n",
            "8      s5    743.519617\n",
            "9      s6     76.095172\n",
            "                            OLS Regression Results                            \n",
            "==============================================================================\n",
            "Dep. Variable:                      y   R-squared:                       0.512\n",
            "Model:                            OLS   Adj. R-squared:                  0.500\n",
            "Method:                 Least Squares   F-statistic:                     43.16\n",
            "Date:                Mon, 15 Feb 2021   Prob (F-statistic):           4.64e-58\n",
            "Time:                        04:40:04   Log-Likelihood:                -2281.1\n",
            "No. Observations:                 422   AIC:                             4584.\n",
            "Df Residuals:                     411   BIC:                             4629.\n",
            "Df Model:                          10                                         \n",
            "Covariance Type:            nonrobust                                         \n",
            "==============================================================================\n",
            "                 coef    std err          t      P>|t|      [0.025      0.975]\n",
            "------------------------------------------------------------------------------\n",
            "const        152.7643      2.658     57.469      0.000     147.539     157.990\n",
            "x1             0.3035     61.286      0.005      0.996    -120.169     120.776\n",
            "x2          -237.6393     62.837     -3.782      0.000    -361.162    -114.117\n",
            "x3           510.5306     68.156      7.491      0.000     376.553     644.508\n",
            "x4           327.7370     66.876      4.901      0.000     196.275     459.199\n",
            "x5          -814.1317    424.044     -1.920      0.056   -1647.697      19.434\n",
            "x6           492.8146    344.227      1.432      0.153    -183.850    1169.480\n",
            "x7           102.8485    219.463      0.469      0.640    -328.561     534.258\n",
            "x8           184.6065    167.336      1.103      0.271    -144.334     513.547\n",
            "x9           743.5196    175.359      4.240      0.000     398.807    1088.232\n",
            "x10           76.0952     68.293      1.114      0.266     -58.152     210.343\n",
            "==============================================================================\n",
            "Omnibus:                        1.544   Durbin-Watson:                   2.026\n",
            "Prob(Omnibus):                  0.462   Jarque-Bera (JB):                1.421\n",
            "Skew:                           0.004   Prob(JB):                        0.491\n",
            "Kurtosis:                       2.716   Cond. No.                         224.\n",
            "==============================================================================\n",
            "\n",
            "Warnings:\n",
            "[1] Standard Errors assume that the covariance matrix of the errors is correctly specified.\n",
            "Mean squared error: 2004.57\n",
            "Root mean squared error: 44.77\n"
          ],
          "name": "stdout"
        }
      ]
    },
    {
      "cell_type": "code",
      "metadata": {
        "id": "mSTAp1SihFhX",
        "colab": {
          "base_uri": "https://localhost:8080/",
          "height": 359
        },
        "outputId": "b7d4bf7f-e1e3-4974-b423-b0353fd3e2e1"
      },
      "source": [
        "# Gets the Coefficents, pvalues, and significance(True/ False) for every intdependent variable based on the multile linear regression model with all the independent variables.\n",
        "df_col = pd.DataFrame( data = np.asarray(df.columns)  )\n",
        "df_coef = pd.DataFrame( data = lm2.params[1:])\n",
        "df_var = pd.DataFrame( data = [\"x1\", \"x2\", \"x3\", \"x4\", \"x5\", \"x6\", \"x7\", \"x8\", \"x9\", \"x10\"])\n",
        "df_p = pd.DataFrame( data = lm2.pvalues[1:])\n",
        "df_tbl =  pd.concat ( [df_var, df_col, df_coef, df_p] , axis = 1 )\n",
        "df_tbl.columns = [' Model Variable', 'Variable Name', 'Coefficients', 'P-Value']\n",
        "alpha = 0.05\n",
        "df_tbl['significant'] = df_tbl['P-Value'] < alpha\n",
        "df_tbl"
      ],
      "execution_count": null,
      "outputs": [
        {
          "output_type": "execute_result",
          "data": {
            "text/html": [
              "<div>\n",
              "<style scoped>\n",
              "    .dataframe tbody tr th:only-of-type {\n",
              "        vertical-align: middle;\n",
              "    }\n",
              "\n",
              "    .dataframe tbody tr th {\n",
              "        vertical-align: top;\n",
              "    }\n",
              "\n",
              "    .dataframe thead th {\n",
              "        text-align: right;\n",
              "    }\n",
              "</style>\n",
              "<table border=\"1\" class=\"dataframe\">\n",
              "  <thead>\n",
              "    <tr style=\"text-align: right;\">\n",
              "      <th></th>\n",
              "      <th>Model Variable</th>\n",
              "      <th>Variable Name</th>\n",
              "      <th>Coefficients</th>\n",
              "      <th>P-Value</th>\n",
              "      <th>significant</th>\n",
              "    </tr>\n",
              "  </thead>\n",
              "  <tbody>\n",
              "    <tr>\n",
              "      <th>0</th>\n",
              "      <td>x1</td>\n",
              "      <td>age</td>\n",
              "      <td>0.303500</td>\n",
              "      <td>9.960511e-01</td>\n",
              "      <td>False</td>\n",
              "    </tr>\n",
              "    <tr>\n",
              "      <th>1</th>\n",
              "      <td>x2</td>\n",
              "      <td>sex</td>\n",
              "      <td>-237.639315</td>\n",
              "      <td>1.787768e-04</td>\n",
              "      <td>True</td>\n",
              "    </tr>\n",
              "    <tr>\n",
              "      <th>2</th>\n",
              "      <td>x3</td>\n",
              "      <td>bmi</td>\n",
              "      <td>510.530605</td>\n",
              "      <td>4.230966e-13</td>\n",
              "      <td>True</td>\n",
              "    </tr>\n",
              "    <tr>\n",
              "      <th>3</th>\n",
              "      <td>x4</td>\n",
              "      <td>bp</td>\n",
              "      <td>327.736980</td>\n",
              "      <td>1.376978e-06</td>\n",
              "      <td>True</td>\n",
              "    </tr>\n",
              "    <tr>\n",
              "      <th>4</th>\n",
              "      <td>x5</td>\n",
              "      <td>s1</td>\n",
              "      <td>-814.131709</td>\n",
              "      <td>5.555949e-02</td>\n",
              "      <td>False</td>\n",
              "    </tr>\n",
              "    <tr>\n",
              "      <th>5</th>\n",
              "      <td>x6</td>\n",
              "      <td>s2</td>\n",
              "      <td>492.814588</td>\n",
              "      <td>1.530022e-01</td>\n",
              "      <td>False</td>\n",
              "    </tr>\n",
              "    <tr>\n",
              "      <th>6</th>\n",
              "      <td>x7</td>\n",
              "      <td>s3</td>\n",
              "      <td>102.848452</td>\n",
              "      <td>6.395776e-01</td>\n",
              "      <td>False</td>\n",
              "    </tr>\n",
              "    <tr>\n",
              "      <th>7</th>\n",
              "      <td>x8</td>\n",
              "      <td>s4</td>\n",
              "      <td>184.606489</td>\n",
              "      <td>2.705814e-01</td>\n",
              "      <td>False</td>\n",
              "    </tr>\n",
              "    <tr>\n",
              "      <th>8</th>\n",
              "      <td>x9</td>\n",
              "      <td>s5</td>\n",
              "      <td>743.519617</td>\n",
              "      <td>2.763327e-05</td>\n",
              "      <td>True</td>\n",
              "    </tr>\n",
              "    <tr>\n",
              "      <th>9</th>\n",
              "      <td>x10</td>\n",
              "      <td>s6</td>\n",
              "      <td>76.095172</td>\n",
              "      <td>2.658265e-01</td>\n",
              "      <td>False</td>\n",
              "    </tr>\n",
              "  </tbody>\n",
              "</table>\n",
              "</div>"
            ],
            "text/plain": [
              "   Model Variable Variable Name  Coefficients       P-Value  significant\n",
              "0              x1           age      0.303500  9.960511e-01        False\n",
              "1              x2           sex   -237.639315  1.787768e-04         True\n",
              "2              x3           bmi    510.530605  4.230966e-13         True\n",
              "3              x4            bp    327.736980  1.376978e-06         True\n",
              "4              x5            s1   -814.131709  5.555949e-02        False\n",
              "5              x6            s2    492.814588  1.530022e-01        False\n",
              "6              x7            s3    102.848452  6.395776e-01        False\n",
              "7              x8            s4    184.606489  2.705814e-01        False\n",
              "8              x9            s5    743.519617  2.763327e-05         True\n",
              "9             x10            s6     76.095172  2.658265e-01        False"
            ]
          },
          "metadata": {
            "tags": []
          },
          "execution_count": 79
        }
      ]
    },
    {
      "cell_type": "markdown",
      "metadata": {
        "id": "Uh2hgPttu_9y"
      },
      "source": [
        "### **How accurate is our multiple linear regression model?**\n",
        "The formula of the regression line for our multiple regression model is y=152.7643 + 0.3035x1-237.6393x2+510.530605x3+327.736980x4 -814.131709x5 + 492.814588x6 + 102.848452x7+ 184.606489x8+ 743.519617x9 + 76.095172 x10. Even more, it seems that age is not a signinfcant factor unlike sex,bmi, and bp. Additionally, from our results, we can see that our R-square(Variance) value is .512 and it is higher than than the .47 we got when we just did linear regression. Further more, the probability of the Fstatistic is 4.64e-58. This tells me that the relationship between the model and the target variable(Disease Progression Value) is signinifcant at the signinfncance level of .05."
      ]
    },
    {
      "cell_type": "markdown",
      "metadata": {
        "id": "x3jmczTUmhGn"
      },
      "source": [
        "### **Removing Interating Features to build a New Multiple Linear Regression Model**\n",
        "I removed the interacting features based on whether or not they are siginifcant using the Table above where it tells us which variables are signinficant. I removed the insignificant variables which are interacting with each other based on my observation."
      ]
    },
    {
      "cell_type": "code",
      "metadata": {
        "id": "rCAm46nzmf51",
        "colab": {
          "base_uri": "https://localhost:8080/"
        },
        "outputId": "a1993403-73c2-4eaa-c4f2-5b3421639ebf"
      },
      "source": [
        "\n",
        "\n",
        "#Multiple Regression\n",
        "\n",
        "import statsmodels.api as sm\n",
        "from scipy import stats\n",
        "\n",
        "# Removing the columns of variables which are interacting.\n",
        "diabetes_X = diabetes.data\n",
        "diabetes_X=np.delete(diabetes.data,[0,4,5,6,7,9],axis=1)\n",
        "# Split the data into training/testing sets\n",
        "diabetes_X_train = diabetes_X[:-20]\n",
        "diabetes_X_test = diabetes_X[-20:]\n",
        " \n",
        "\n",
        "\n",
        "# Create linear regression object\n",
        "lm = linear_model.LinearRegression()\n",
        " \n",
        "# Train the model using the training sets\n",
        "fit = lm.fit(diabetes_X_train, diabetes_y_train)\n",
        " \n",
        "# Make predictions using the testing set\n",
        "diabetes_y_pred = fit.predict(diabetes_X_test)\n",
        " \n",
        "# The coefficients\n",
        "print('Coefficients: \\n', fit.coef_)\n",
        "\n",
        "colnames = np.asarray(df.columns)\n",
        "\n",
        " \n",
        "# https://pandas.pydata.org/pandas-docs/stable/user_guide/merging.html\n",
        "df_col = pd.DataFrame( data = np.asarray(df.columns)  )\n",
        "df_coef = pd.DataFrame( data = fit.coef_)\n",
        "df_tbl =  pd.concat ( [df_col, df_coef] , axis = 1 )\n",
        "df_tbl.columns = ['Columns', 'Coefficients']\n",
        "print(df_tbl)\n",
        " \n",
        "\n",
        "#  scipy.stats OLS linear regression model\n",
        "X_train = sm.add_constant(diabetes_X_train)\n",
        "lm2 = sm.OLS(diabetes_y_train, X_train).fit()\n",
        "print(lm2.summary())\n",
        "\n",
        "print(\"Mean squared error: %.2f\"\n",
        "      % mean_squared_error(diabetes_y_test, diabetes_y_pred))\n",
        "\n",
        "print(\"Root mean squared error: %.2f\"\n",
        "      % np.sqrt( mean_squared_error(diabetes_y_test, diabetes_y_pred)) )"
      ],
      "execution_count": null,
      "outputs": [
        {
          "output_type": "stream",
          "text": [
            "Coefficients: \n",
            " [-131.8626081   593.16210105  298.1175092   547.05556785]\n",
            "  Columns  Coefficients\n",
            "0     age   -131.862608\n",
            "1     sex    593.162101\n",
            "2     bmi    298.117509\n",
            "3      bp    547.055568\n",
            "4      s1           NaN\n",
            "5      s2           NaN\n",
            "6      s3           NaN\n",
            "7      s4           NaN\n",
            "8      s5           NaN\n",
            "9      s6           NaN\n",
            "                            OLS Regression Results                            \n",
            "==============================================================================\n",
            "Dep. Variable:                      y   R-squared:                       0.480\n",
            "Model:                            OLS   Adj. R-squared:                  0.475\n",
            "Method:                 Least Squares   F-statistic:                     96.12\n",
            "Date:                Mon, 15 Feb 2021   Prob (F-statistic):           6.96e-58\n",
            "Time:                        04:59:57   Log-Likelihood:                -2294.7\n",
            "No. Observations:                 422   AIC:                             4599.\n",
            "Df Residuals:                     417   BIC:                             4620.\n",
            "Df Model:                           4                                         \n",
            "Covariance Type:            nonrobust                                         \n",
            "==============================================================================\n",
            "                 coef    std err          t      P>|t|      [0.025      0.975]\n",
            "------------------------------------------------------------------------------\n",
            "const        152.8790      2.725     56.112      0.000     147.523     158.235\n",
            "x1          -131.8626     58.938     -2.237      0.026    -247.715     -16.011\n",
            "x2           593.1621     65.915      8.999      0.000     463.595     722.729\n",
            "x3           298.1175     65.412      4.558      0.000     169.540     426.695\n",
            "x4           547.0556     65.697      8.327      0.000     417.916     676.195\n",
            "==============================================================================\n",
            "Omnibus:                        5.134   Durbin-Watson:                   1.980\n",
            "Prob(Omnibus):                  0.077   Jarque-Bera (JB):                3.979\n",
            "Skew:                           0.123   Prob(JB):                        0.137\n",
            "Kurtosis:                       2.593   Cond. No.                         28.1\n",
            "==============================================================================\n",
            "\n",
            "Warnings:\n",
            "[1] Standard Errors assume that the covariance matrix of the errors is correctly specified.\n",
            "Mean squared error: 1971.76\n",
            "Root mean squared error: 44.40\n"
          ],
          "name": "stdout"
        }
      ]
    },
    {
      "cell_type": "code",
      "metadata": {
        "colab": {
          "base_uri": "https://localhost:8080/",
          "height": 359
        },
        "id": "YvgbiqRVHw7Z",
        "outputId": "8ead3cee-5630-4417-984d-dc9b85045db6"
      },
      "source": [
        "df_col = pd.DataFrame( data = np.asarray(df.columns)  )\n",
        "df_coef = pd.DataFrame( data = lm2.params[1:])\n",
        "df_var = pd.DataFrame( data = [\"x1\", \"x2\", \"x3\", \"x4\", \"x5\", \"x6\", \"x7\", \"x8\", \"x9\", \"x10\"])\n",
        "df_p = pd.DataFrame( data = lm2.pvalues[1:])\n",
        "df_tbl =  pd.concat ( [df_var, df_col, df_coef, df_p] , axis = 1 )\n",
        "df_tbl.columns = [' Model Variable', 'Variable Name', 'Coefficients', 'P-Value']\n",
        "alpha = 0.05\n",
        "df_tbl['significant'] = df_tbl['P-Value'] < alpha\n",
        "df_tbl"
      ],
      "execution_count": null,
      "outputs": [
        {
          "output_type": "execute_result",
          "data": {
            "text/html": [
              "<div>\n",
              "<style scoped>\n",
              "    .dataframe tbody tr th:only-of-type {\n",
              "        vertical-align: middle;\n",
              "    }\n",
              "\n",
              "    .dataframe tbody tr th {\n",
              "        vertical-align: top;\n",
              "    }\n",
              "\n",
              "    .dataframe thead th {\n",
              "        text-align: right;\n",
              "    }\n",
              "</style>\n",
              "<table border=\"1\" class=\"dataframe\">\n",
              "  <thead>\n",
              "    <tr style=\"text-align: right;\">\n",
              "      <th></th>\n",
              "      <th>Model Variable</th>\n",
              "      <th>Variable Name</th>\n",
              "      <th>Coefficients</th>\n",
              "      <th>P-Value</th>\n",
              "      <th>significant</th>\n",
              "    </tr>\n",
              "  </thead>\n",
              "  <tbody>\n",
              "    <tr>\n",
              "      <th>0</th>\n",
              "      <td>x1</td>\n",
              "      <td>age</td>\n",
              "      <td>-131.862608</td>\n",
              "      <td>2.579295e-02</td>\n",
              "      <td>True</td>\n",
              "    </tr>\n",
              "    <tr>\n",
              "      <th>1</th>\n",
              "      <td>x2</td>\n",
              "      <td>sex</td>\n",
              "      <td>593.162101</td>\n",
              "      <td>8.138170e-18</td>\n",
              "      <td>True</td>\n",
              "    </tr>\n",
              "    <tr>\n",
              "      <th>2</th>\n",
              "      <td>x3</td>\n",
              "      <td>bmi</td>\n",
              "      <td>298.117509</td>\n",
              "      <td>6.808035e-06</td>\n",
              "      <td>True</td>\n",
              "    </tr>\n",
              "    <tr>\n",
              "      <th>3</th>\n",
              "      <td>x4</td>\n",
              "      <td>bp</td>\n",
              "      <td>547.055568</td>\n",
              "      <td>1.203517e-15</td>\n",
              "      <td>True</td>\n",
              "    </tr>\n",
              "    <tr>\n",
              "      <th>4</th>\n",
              "      <td>x5</td>\n",
              "      <td>s1</td>\n",
              "      <td>NaN</td>\n",
              "      <td>NaN</td>\n",
              "      <td>False</td>\n",
              "    </tr>\n",
              "    <tr>\n",
              "      <th>5</th>\n",
              "      <td>x6</td>\n",
              "      <td>s2</td>\n",
              "      <td>NaN</td>\n",
              "      <td>NaN</td>\n",
              "      <td>False</td>\n",
              "    </tr>\n",
              "    <tr>\n",
              "      <th>6</th>\n",
              "      <td>x7</td>\n",
              "      <td>s3</td>\n",
              "      <td>NaN</td>\n",
              "      <td>NaN</td>\n",
              "      <td>False</td>\n",
              "    </tr>\n",
              "    <tr>\n",
              "      <th>7</th>\n",
              "      <td>x8</td>\n",
              "      <td>s4</td>\n",
              "      <td>NaN</td>\n",
              "      <td>NaN</td>\n",
              "      <td>False</td>\n",
              "    </tr>\n",
              "    <tr>\n",
              "      <th>8</th>\n",
              "      <td>x9</td>\n",
              "      <td>s5</td>\n",
              "      <td>NaN</td>\n",
              "      <td>NaN</td>\n",
              "      <td>False</td>\n",
              "    </tr>\n",
              "    <tr>\n",
              "      <th>9</th>\n",
              "      <td>x10</td>\n",
              "      <td>s6</td>\n",
              "      <td>NaN</td>\n",
              "      <td>NaN</td>\n",
              "      <td>False</td>\n",
              "    </tr>\n",
              "  </tbody>\n",
              "</table>\n",
              "</div>"
            ],
            "text/plain": [
              "   Model Variable Variable Name  Coefficients       P-Value  significant\n",
              "0              x1           age   -131.862608  2.579295e-02         True\n",
              "1              x2           sex    593.162101  8.138170e-18         True\n",
              "2              x3           bmi    298.117509  6.808035e-06         True\n",
              "3              x4            bp    547.055568  1.203517e-15         True\n",
              "4              x5            s1           NaN           NaN        False\n",
              "5              x6            s2           NaN           NaN        False\n",
              "6              x7            s3           NaN           NaN        False\n",
              "7              x8            s4           NaN           NaN        False\n",
              "8              x9            s5           NaN           NaN        False\n",
              "9             x10            s6           NaN           NaN        False"
            ]
          },
          "metadata": {
            "tags": []
          },
          "execution_count": 89
        }
      ]
    },
    {
      "cell_type": "markdown",
      "metadata": {
        "id": "t0FHRSV-4KeN"
      },
      "source": [
        "**How Accurate is our new multiple linear regression model after we remove the outliers?**\n",
        "\n",
        "The formula of the regression line for our multiple regression model is y=152.7643 + -131.8626081x1+ 593.16210105 x2 +  298.1175092x3 + 547.05556785x4. The root mean squared error for our new model(44.40) after removing the intereacting features is slightly lower than the original multiple linear reression model(44.77). The probability of the F statistic for our new model is 6.96e-58 and this tells me that the relationship between the model and the target variable(Disease Progression Value) is signinifcant at the signinfncance level of .05.\n"
      ]
    },
    {
      "cell_type": "markdown",
      "metadata": {
        "id": "6ptxqKkU_-nz"
      },
      "source": [
        "# **Conclusions**"
      ]
    },
    {
      "cell_type": "markdown",
      "metadata": {
        "id": "lqmYQX3ZGhc3"
      },
      "source": [
        "Through our first model which was just Linear regression, we recieved a variance of .47 and RMSE percentage of the diabetes mean to be 39.998759894526835%. This showed us that our linear regression model has not performed that well due to the variance being 0.47 as that means that  only 47% of the variance that has occured in the our target response variable(Disease Progression Value) can be explained by the input. Our linear regression model was not accurate. \n",
        "\n",
        "Next, we did multiple linear regression and we see that our variance has gone up to .512 and this is a clear increase over the linear regression model which had a variance of (0.47). Furthermore, the probability of the Fststistic for the multiple linear regression model was 4.64e-58 and this shows us that the relationship between the model and the target variable(Disease Progression Value) is signinifcant at the signinfncance level of .05. We also printed out the signifncance of the each independtnt variable based o its pvalue for the multiple linear regression model. It showed us that the age variable was not signinfcant but the sex, bmi, and bp variables were signinfcant in terms of their influence on the target variable(Diasease Progression Value).\n",
        "\n",
        "Lastly, I removed interacting features manually based on whether they were signinfcant or not to create a new multiple linear regression model towards the end of the notebook. However, the variance of this new model was 0.48. It was lowed than the orginal variance of the multiple linear regression model(0.512). Further more, the rotmean squared error of the new model(44.40) and the orginal multiple linear regression mode(44.77) were relatively the same. The probability of the F statistic for our new model is 6.96e-58 and this tells me that the relationship between the model and the target variable(Disease Progression Value) is signinifcant at the signinfncance level of .05.\n",
        "\n",
        "Overall, the orginal multiple linear regression model did the best because the variance was the highest for that model(.512) and this means that 51% of the vairance that has occured in the multiple linear regression model can be explained. Based of the results from the orginal multiple linear regression model, I would say that the main signinfcant variables that have a influcne on diabetes are sex, bmi, and bp. However, we have to notice that our variance was only 0.512 for the original multiple linear regression model so that shows that our model was not very accurate and that only 51.2% of the variance that has occured can be explained by the input. Thus, I would say that we would need to build a better model where the RMSE would be lower and the variance can be much higher in order to get more concreate and accurate results.\n"
      ]
    }
  ]
}